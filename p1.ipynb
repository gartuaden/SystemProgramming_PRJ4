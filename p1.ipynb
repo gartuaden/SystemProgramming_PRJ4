{
  "nbformat": 4,
  "nbformat_minor": 0,
  "metadata": {
    "colab": {
      "name": "p1.ipynb",
      "version": "0.3.2",
      "provenance": []
    },
    "kernelspec": {
      "name": "python3",
      "display_name": "Python 3"
    }
  },
  "cells": [
    {
      "cell_type": "code",
      "metadata": {
        "id": "_llvgDqO11c5",
        "colab_type": "code",
        "outputId": "77a1b7dd-6019-4731-c787-375a8ccc3800",
        "colab": {
          "base_uri": "https://localhost:8080/",
          "height": 67
        }
      },
      "source": [
        "N = int(input())\n",
        "temp= input().split()\n",
        "A  = [int (i) for i in temp]\n",
        "result = N*[0]\n",
        "\n",
        "max_counter = 0\n",
        "current = 0\n",
        "\n",
        "for X in A:\n",
        "    if 1 <= X <= N:\n",
        "        if max_counter > result[X-1]:\n",
        "            result[X-1] = max_counter\n",
        "        result[X-1] += 1\n",
        "        if current < result[X-1]:\n",
        "            current = result[X-1]\n",
        "    else:\n",
        "        max_counter = current\n",
        "for i in range(0,N):\n",
        "    if result[i] < max_counter:\n",
        "        result[i] = max_counter\n",
        "        \n",
        "for X in result:\n",
        "    print(X, end=' ')"
      ],
      "execution_count": 3,
      "outputs": [
        {
          "output_type": "stream",
          "text": [
            "5\n",
            "3 4 4 6 1 4 4\n",
            "3 2 2 4 2 "
          ],
          "name": "stdout"
        }
      ]
    }
  ]
}