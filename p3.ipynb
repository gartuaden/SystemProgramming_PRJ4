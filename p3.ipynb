{
  "nbformat": 4,
  "nbformat_minor": 0,
  "metadata": {
    "colab": {
      "name": "p3.ipynb",
      "version": "0.3.2",
      "provenance": []
    },
    "kernelspec": {
      "name": "python3",
      "display_name": "Python 3"
    }
  },
  "cells": [
    {
      "cell_type": "code",
      "metadata": {
        "id": "satGKQ14e7ov",
        "colab_type": "code",
        "outputId": "551a61d2-f995-4161-84b7-203439f945d3",
        "colab": {
          "base_uri": "https://localhost:8080/",
          "height": 50
        }
      },
      "source": [
        "temp= input().split()\n",
        "A  = [int (i) for i in temp]\n",
        "\n",
        "sums = []\n",
        "\n",
        "for i in range(len(A)):\n",
        "    for j in range(i, len(A)):\n",
        "        sums.append(abs(A[i] + A[j]))\n",
        "print(min(sums))"
      ],
      "execution_count": 0,
      "outputs": [
        {
          "output_type": "stream",
          "text": [
            "-8 4 5 -10 3\n",
            "3\n"
          ],
          "name": "stdout"
        }
      ]
    }
  ]
}