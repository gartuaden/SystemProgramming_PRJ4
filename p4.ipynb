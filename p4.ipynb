{
  "nbformat": 4,
  "nbformat_minor": 0,
  "metadata": {
    "colab": {
      "name": "p4.ipynb",
      "version": "0.3.2",
      "provenance": []
    },
    "kernelspec": {
      "name": "python3",
      "display_name": "Python 3"
    }
  },
  "cells": [
    {
      "cell_type": "code",
      "metadata": {
        "id": "lybrXmN0kHPl",
        "colab_type": "code",
        "outputId": "cf021c38-822f-41af-ed98-aa3e036936e7",
        "colab": {
          "base_uri": "https://localhost:8080/",
          "height": 133
        }
      },
      "source": [
        "import numpy as np\n",
        "size = int(input())\n",
        "\n",
        "A = np.random.random((size,size))\n",
        "B = np.zeros((size//2, size//2))\n",
        "print(A)\n",
        "\n",
        "for i in range(size//2):\n",
        "    for j in range(size//2):\n",
        "        B[i, j] = np.max(A[i*2 : i*2 +2, j*2 : j*2 + 2])\n",
        "        \n",
        "\n",
        "print(B)\n",
        "        \n",
        "\n"
      ],
      "execution_count": 0,
      "outputs": [
        {
          "output_type": "stream",
          "text": [
            "4\n",
            "[[0.82592118 0.29800067 0.97758609 0.70074631]\n",
            " [0.90074703 0.08004422 0.04723443 0.1160088 ]\n",
            " [0.88546882 0.79283146 0.5450512  0.60682699]\n",
            " [0.06479744 0.83107665 0.53969639 0.71697906]]\n",
            "[[0.90074703 0.97758609]\n",
            " [0.88546882 0.71697906]]\n"
          ],
          "name": "stdout"
        }
      ]
    }
  ]
}