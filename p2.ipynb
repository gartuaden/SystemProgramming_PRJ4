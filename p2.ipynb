{
  "nbformat": 4,
  "nbformat_minor": 0,
  "metadata": {
    "colab": {
      "name": "p2.ipynb",
      "version": "0.3.2",
      "provenance": []
    },
    "kernelspec": {
      "name": "python3",
      "display_name": "Python 3"
    }
  },
  "cells": [
    {
      "cell_type": "code",
      "metadata": {
        "id": "xYGwagxjHoWe",
        "colab_type": "code",
        "outputId": "8ea36777-7101-451c-b6be-ba4b6fb0d4aa",
        "colab": {
          "base_uri": "https://localhost:8080/",
          "height": 67
        }
      },
      "source": [
        "temp1= input().split()\n",
        "A  = [int (i) for i in temp1]\n",
        "temp2= input().split()\n",
        "B  = [int (i) for i in temp2]\n",
        "\n",
        "new = []\n",
        "\n",
        "for i in range(len(A)):\n",
        "    new.append(A[i])\n",
        "    new.append(B[i])\n",
        "\n",
        "result = 0\n",
        "\n",
        "for x in range(0, len(new), 2):\n",
        "    a = set()\n",
        "    b = set()\n",
        "    i = 1\n",
        "    while i <= new[x]:\n",
        "        k = 0\n",
        "        if new[x] % i == 0:\n",
        "            p = 1\n",
        "            while p <= i:\n",
        "                if i % p == 0:\n",
        "                    k = k+1\n",
        "                p = p +1\n",
        "            if(k == 2):\n",
        "                a.add(i)\n",
        "        i = i+1\n",
        "        \n",
        "    i = 1\n",
        "    while i <= new[x+1]:\n",
        "        k = 0\n",
        "        if new[x+1] % i == 0:\n",
        "            p = 1\n",
        "            while p <= i:\n",
        "                if i % p == 0:\n",
        "                    k = k+1\n",
        "                p = p +1\n",
        "            if(k == 2):\n",
        "                b.add(i)\n",
        "        i = i+1\n",
        "\n",
        "    if a == b:\n",
        "        result = result + 1\n",
        "\n",
        "print(result)"
      ],
      "execution_count": 0,
      "outputs": [
        {
          "output_type": "stream",
          "text": [
            "15 10 3\n",
            "75 30 5\n",
            "1\n"
          ],
          "name": "stdout"
        }
      ]
    }
  ]
}